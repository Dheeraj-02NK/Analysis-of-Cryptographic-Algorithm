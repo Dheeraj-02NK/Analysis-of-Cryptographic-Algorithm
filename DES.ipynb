{
 "cells": [
  {
   "cell_type": "code",
   "execution_count": null,
   "id": "16faa84e",
   "metadata": {},
   "outputs": [],
   "source": [
    "from Crypto.Cipher import DES\n",
    "import time\n",
    "import random\n",
    "import string\n",
    "str_list = []\n",
    "\n",
    "def add_padding(text,blocksize=64):\n",
    "    pad_len = blocksize - (len(text) % blocksize)\n",
    "    padding = '$' * pad_len\n",
    "    return text + padding\n",
    "\n",
    "def remove_padding(text,blocksize=64):\n",
    "    counter = 0\n",
    "    for c in text[::-1]:\n",
    "        if c == '$':\n",
    "            counter += 1\n",
    "        else:\n",
    "            break\n",
    "    return str[:-counter]\n",
    "\n",
    "\n",
    "def encrypt(plain_text, key):\n",
    "    des = DES.new(key, DES.MODE_ECB)\n",
    "    return des.encrypt(plain_text)\n",
    "\n",
    "if __name__ == '__main__':\n",
    "    \n",
    "    key = 'secretKey'\n",
    "    for length in range(5, 1001, 5):\n",
    "        rand_string = ''.join(random.choices(string.ascii_uppercase, k=length))\n",
    "        str_list.append(rand_string)\n",
    "        \n",
    "        start_time = time.time()\n",
    "        for plain_text in str_list:\n",
    "            plain_text = add_padding(plain_text)\n",
    "            cipher_text = encrypt(plain_text,key)\n",
    "            \n",
    "        end_time = time.time()\n",
    "        print(\"{:.2f}\".format((end_time - start_time)*1000))"
   ]
  }
 ],
 "metadata": {
  "kernelspec": {
   "display_name": "Python 3 (ipykernel)",
   "language": "python",
   "name": "python3"
  },
  "language_info": {
   "codemirror_mode": {
    "name": "ipython",
    "version": 3
   },
   "file_extension": ".py",
   "mimetype": "text/x-python",
   "name": "python",
   "nbconvert_exporter": "python",
   "pygments_lexer": "ipython3",
   "version": "3.9.13"
  }
 },
 "nbformat": 4,
 "nbformat_minor": 5
}
